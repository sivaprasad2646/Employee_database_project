{
 "cells": [
  {
   "cell_type": "code",
   "execution_count": 2,
   "id": "1ec974ac",
   "metadata": {},
   "outputs": [
    {
     "name": "stdout",
     "output_type": "stream",
     "text": [
      "Requirement already satisfied: mysql-connector-python in c:\\users\\sivas\\anaconda3\\lib\\site-packages (8.1.0)\n",
      "Requirement already satisfied: protobuf<=4.21.12,>=4.21.1 in c:\\users\\sivas\\anaconda3\\lib\\site-packages (from mysql-connector-python) (4.21.12)\n"
     ]
    }
   ],
   "source": [
    "!pip install mysql-connector-python"
   ]
  },
  {
   "cell_type": "code",
   "execution_count": null,
   "id": "3b38cbc0",
   "metadata": {},
   "outputs": [],
   "source": []
  },
  {
   "cell_type": "code",
   "execution_count": 4,
   "id": "2b9d944d",
   "metadata": {},
   "outputs": [],
   "source": [
    "# import libraries\n",
    "import mysql.connector\n",
    "from mysql.connector import Error\n",
    "import pandas as pd\n"
   ]
  },
  {
   "cell_type": "code",
   "execution_count": 5,
   "id": "a91a4bf5",
   "metadata": {},
   "outputs": [],
   "source": [
    "# create connection with server\n",
    "\n",
    "def create_server_connection(host_name, user_name, user_password):\n",
    "    connection = None\n",
    "    try:\n",
    "        connection = mysql.connector.connect(\n",
    "            host=host_name,\n",
    "            user=user_name,\n",
    "            passwd=user_password\n",
    "        )\n",
    "        print(\"MySQL Database connection successful\")\n",
    "    except Error as err:\n",
    "        print(f\"Error: '{err}'\")\n",
    "\n",
    "    return connection"
   ]
  },
  {
   "cell_type": "code",
   "execution_count": 6,
   "id": "a8a7d413",
   "metadata": {},
   "outputs": [
    {
     "name": "stdout",
     "output_type": "stream",
     "text": [
      "MySQL Database connection successful\n"
     ]
    }
   ],
   "source": [
    "connection = create_server_connection(\"localhost\", \"root\", \"Sivaprasad@2646\")"
   ]
  },
  {
   "cell_type": "code",
   "execution_count": 7,
   "id": "9c05dea4",
   "metadata": {},
   "outputs": [],
   "source": [
    "# creating database\n",
    "def create_database(connection, query):\n",
    "    cursor = connection.cursor()\n",
    "    try:\n",
    "        cursor.execute(query)\n",
    "        print(\"Database created successfully\")\n",
    "    except Error as err:\n",
    "        print(f\"Error: '{err}'\")"
   ]
  },
  {
   "cell_type": "code",
   "execution_count": 8,
   "id": "dfd2b3d3",
   "metadata": {},
   "outputs": [
    {
     "name": "stdout",
     "output_type": "stream",
     "text": [
      "Error: '1007 (HY000): Can't create database 'company'; database exists'\n"
     ]
    }
   ],
   "source": [
    "create_database_query = 'CREATE DATABASE company'\n",
    "create_database(connection, create_database_query)"
   ]
  },
  {
   "cell_type": "code",
   "execution_count": 9,
   "id": "7e059cb9",
   "metadata": {},
   "outputs": [],
   "source": [
    "def create_db_connection(host_name, user_name, user_password, db_name):\n",
    "    connection = None\n",
    "    try:\n",
    "        connection = mysql.connector.connect(\n",
    "            host=host_name,\n",
    "            user=user_name,\n",
    "            passwd=user_password,\n",
    "            database=db_name  \n",
    "        )\n",
    "        print(\"MySQL Database connection successful\")\n",
    "    except Error as err:\n",
    "        print(f\"Error: '{err}'\")\n",
    "\n",
    "    return connection"
   ]
  },
  {
   "cell_type": "code",
   "execution_count": 10,
   "id": "8e585675",
   "metadata": {},
   "outputs": [],
   "source": [
    "# to execute operations\n",
    "def execute_query(connection, query):\n",
    "    cursor = connection.cursor()\n",
    "    try:\n",
    "        cursor.execute(query)\n",
    "        connection.commit()\n",
    "        print(\"Query successful\")\n",
    "    except Error as err:\n",
    "        print(f\"Error: '{err}'\")"
   ]
  },
  {
   "cell_type": "code",
   "execution_count": 11,
   "id": "69d7013e",
   "metadata": {},
   "outputs": [
    {
     "name": "stdout",
     "output_type": "stream",
     "text": [
      "MySQL Database connection successful\n",
      "Error: '1050 (42S01): Table 'employees' already exists'\n"
     ]
    }
   ],
   "source": [
    "# creating table\n",
    "\n",
    "create_employees_table = \"\"\"\n",
    "CREATE TABLE employees (\n",
    "    emp_no INT(11) NOT NULL AUTO_INCREMENT,\n",
    "    first_name VARCHAR(15) NOT NULL,\n",
    "    last_name VARCHAR(15) NOT NULL,\n",
    "    hire_date VARCHAR(15) NOT NULL,\n",
    "    gender ENUM('M','F') NOT NULL,\n",
    "    birth_date VARCHAR(15) NOT NULL,\n",
    "    PRIMARY KEY (emp_no)\n",
    "    );\n",
    "\"\"\"\n",
    "\n",
    "connection = create_db_connection(\"localhost\", \"root\", 'Sivaprasad@2646', 'company') # Connect to the Database\n",
    "execute_query(connection, create_employees_table)"
   ]
  },
  {
   "cell_type": "code",
   "execution_count": 12,
   "id": "9bde1b23",
   "metadata": {},
   "outputs": [
    {
     "name": "stdout",
     "output_type": "stream",
     "text": [
      "MySQL Database connection successful\n",
      "Error: '1050 (42S01): Table 'departments' already exists'\n"
     ]
    }
   ],
   "source": [
    "# department table \n",
    "create_departments_table = \"\"\"\n",
    "CREATE TABLE departments (\n",
    "    dept_no VARCHAR(10) NOT NULL,\n",
    "    dept_name VARCHAR(40) NOT NULL,\n",
    "    PRIMARY KEY (dept_no), \n",
    "    UNIQUE KEY dept_name(dept_name)\n",
    "    );\n",
    "\"\"\"\n",
    "connection=create_db_connection(\"localhost\", \"root\",\"Sivaprasad@2646\",\"company\")\n",
    "execute_query(connection,create_departments_table)"
   ]
  },
  {
   "cell_type": "code",
   "execution_count": 13,
   "id": "48e62e00",
   "metadata": {},
   "outputs": [
    {
     "name": "stdout",
     "output_type": "stream",
     "text": [
      "MySQL Database connection successful\n",
      "Error: '1050 (42S01): Table 'salaries' already exists'\n"
     ]
    }
   ],
   "source": [
    "# salaries table\n",
    "create_salaries_table = \"\"\"\n",
    "CREATE TABLE salaries (\n",
    "    emp_no INT(11) NOT NULL,\n",
    "    salary INT(11) NOT NULL,\n",
    "    from_date VARCHAR(15) NOT NULL,\n",
    "    to_date VARCHAR(15) NOT NULL,\n",
    "    PRIMARY KEY (emp_no,from_date), \n",
    "    KEY emp_no (emp_no),\n",
    "    CONSTRAINT salaries_ibfk_1 FOREIGN KEY (emp_no)\n",
    "        REFERENCES employees (emp_no) ON DELETE CASCADE\n",
    "    );\n",
    "\"\"\"\n",
    "connection = create_db_connection(\"localhost\", \"root\", \"Sivaprasad@2646\",\"company\")\n",
    "execute_query(connection,create_salaries_table)"
   ]
  },
  {
   "cell_type": "code",
   "execution_count": 14,
   "id": "83a7fb8a",
   "metadata": {},
   "outputs": [
    {
     "name": "stdout",
     "output_type": "stream",
     "text": [
      "MySQL Database connection successful\n",
      "Error: '1050 (42S01): Table 'dept_emp' already exists'\n"
     ]
    }
   ],
   "source": [
    "create_deptemp_table = \"\"\"\n",
    "CREATE TABLE dept_emp (\n",
    "    emp_no INT(11) NOT NULL,\n",
    "    dept_no VARCHAR(10) NOT NULL,\n",
    "    from_date VARCHAR(15) NOT NULL,\n",
    "    to_date VARCHAR(15) NOT NULL,\n",
    "    PRIMARY KEY (emp_no, dept_no), \n",
    "    KEY emp_no (emp_no),\n",
    "    KEY dept_no (dept_no),\n",
    "    CONSTRAINT dept_emp_ibfk_1 FOREIGN KEY (emp_no)\n",
    "        REFERENCES employees (emp_no) ON DELETE CASCADE,\n",
    "    CONSTRAINT dept_emp_ibfk_2 FOREIGN KEY (dept_no)\n",
    "        REFERENCES departments (dept_no) ON DELETE CASCADE\n",
    ");\n",
    "\"\"\"\n",
    "connection = create_db_connection(\"localhost\", \"root\", \"Sivaprasad@2646\",\"company\")\n",
    "execute_query(connection,create_deptemp_table)"
   ]
  },
  {
   "cell_type": "code",
   "execution_count": 15,
   "id": "ae010127",
   "metadata": {},
   "outputs": [
    {
     "name": "stdout",
     "output_type": "stream",
     "text": [
      "MySQL Database connection successful\n",
      "Error: '1050 (42S01): Table 'dept_manager' already exists'\n"
     ]
    }
   ],
   "source": [
    "create_dept_manager_table = \"\"\"\n",
    "CREATE TABLE dept_manager (\n",
    "    emp_no INT(11) NOT NULL,\n",
    "    dept_no VARCHAR(10) NOT NULL,\n",
    "    from_date VARCHAR(15) NOT NULL,\n",
    "    to_date VARCHAR(15) NOT NULL,\n",
    "    PRIMARY KEY (emp_no, dept_no),\n",
    "    KEY emp_no (emp_no),\n",
    "    KEY dept_no (dept_no),\n",
    "    CONSTRAINT dept_manager_ibfk_1 FOREIGN KEY (emp_no) \n",
    "        REFERENCES employees (emp_no) ON DELETE CASCADE,\n",
    "    CONSTRAINT dept_manager_ibfk_2 FOREIGN KEY (dept_no)\n",
    "        REFERENCES departments (dept_no) ON DELETE CASCADE\n",
    "    );\n",
    "\"\"\"\n",
    "connection = create_db_connection(\"localhost\", \"root\", \"Sivaprasad@2646\",\"company\")\n",
    "execute_query(connection,create_dept_manager_table)"
   ]
  },
  {
   "cell_type": "code",
   "execution_count": 17,
   "id": "a1c709b7",
   "metadata": {},
   "outputs": [
    {
     "name": "stdout",
     "output_type": "stream",
     "text": [
      "MySQL Database connection successful\n",
      "Query successful\n"
     ]
    }
   ],
   "source": [
    "create_titles_table =\"\"\"\n",
    "CREATE TABLE titles (\n",
    "    emp_no INT(11) NOT NULL,\n",
    "    title VARCHAR(50) NOT NULL,\n",
    "    from_date VARCHAR(15) NOT NULL,\n",
    "    to_date VARCHAR(15) DEFAULT NULL,\n",
    "    PRIMARY KEY (emp_no,title,from_date), KEY emp_no (emp_no),\n",
    "    CONSTRAINT titles_ibfk_1 FOREIGN KEY (emp_no)\n",
    "        REFERENCES employees (emp_no) ON DELETE CASCADE\n",
    "    );\n",
    "\"\"\"\n",
    "\n",
    "connection = create_db_connection(\"localhost\", \"root\", \"Sivaprasad@2646\", 'company')\n",
    "execute_query(connection, create_titles_table)"
   ]
  },
  {
   "cell_type": "code",
   "execution_count": 21,
   "id": "58c15502",
   "metadata": {},
   "outputs": [
    {
     "name": "stdout",
     "output_type": "stream",
     "text": [
      "MySQL Database connection successful\n",
      "Query successful\n"
     ]
    }
   ],
   "source": [
    "# inserting values to the tables\n",
    "\n",
    "pop_employee = \"\"\"\n",
    "INSERT INTO employees VALUES\n",
    "(1, 'Raju', 'Rathi', '1999-02-20', 'M', '1977-06-14'),\n",
    "(2, 'Shyam', 'Naik', '2007-11-08', 'M', '1985-11-01'), \n",
    "(3, 'Baburao', 'Apte', '2014-06-11', 'M', '1984-02-01'),\n",
    "(4, 'Anjali', 'Pande', '2000-08-23', 'F', '1978-05-19'),\n",
    "(5, 'Abhilasha', 'Mohite', '2020-03-30', 'F', '1994-01-17'),\n",
    "(6, 'Suresh', 'Kadam', '1999-02-21', 'M', '1977-08-21'),\n",
    "(7, 'Manish', 'Joshi', '2014-06-11', 'M', '1992-09-29'),\n",
    "(8, 'Radha',  'Marathe', '2020-03-29', 'F', '1988-11-22')\n",
    "\"\"\"\n",
    "\n",
    "connection = create_db_connection(\"localhost\", \"root\", 'Sivaprasad@2646', 'company')\n",
    "execute_query(connection, pop_employee)\n"
   ]
  },
  {
   "cell_type": "code",
   "execution_count": 22,
   "id": "238ee345",
   "metadata": {},
   "outputs": [],
   "source": [
    "from datetime import datetime,date"
   ]
  },
  {
   "cell_type": "code",
   "execution_count": 23,
   "id": "18a16361",
   "metadata": {},
   "outputs": [
    {
     "name": "stdout",
     "output_type": "stream",
     "text": [
      "MySQL Database connection successful\n",
      "Query successful\n"
     ]
    }
   ],
   "source": [
    "# inserting values to departments table\n",
    "pop_dept = \"\"\"\n",
    "INSERT INTO departments VALUES\n",
    "('HR01', 'Human Resources'),\n",
    "('SFT01', 'S.Development'),\n",
    "('SFT02', 'S.Testing'),\n",
    "('MKT01', 'Marketing')\n",
    "\"\"\"\n",
    "connection = create_db_connection('localhost','root', 'Sivaprasad@2646','company')\n",
    "execute_query(connection, pop_dept)\n"
   ]
  },
  {
   "cell_type": "code",
   "execution_count": 24,
   "id": "b7a513df",
   "metadata": {},
   "outputs": [
    {
     "name": "stdout",
     "output_type": "stream",
     "text": [
      "MySQL Database connection successful\n",
      "Query successful\n"
     ]
    }
   ],
   "source": [
    "# inserting values to manager table\n",
    "\n",
    "pop_manager = \"\"\"\n",
    "INSERT INTO dept_manager VALUES\n",
    "(2, 'SFT01','2008-12-20','2012-03-19'),\n",
    "(3, 'MKT01', '2014-06-11', '2020-10-04'),\n",
    "(6, 'SFT02', '2002-04-07','2004-11-10'),\n",
    "(8, 'HR01', '2020-03-29','2022-03-03')\n",
    "\n",
    "\"\"\"\n",
    "connction = create_db_connection('localhost', 'root', 'Sivaprasad@2646', 'company')\n",
    "execute_query(connection, pop_manager)"
   ]
  },
  {
   "cell_type": "code",
   "execution_count": 25,
   "id": "30931ab9",
   "metadata": {},
   "outputs": [
    {
     "name": "stdout",
     "output_type": "stream",
     "text": [
      "MySQL Database connection successful\n",
      "Query successful\n"
     ]
    }
   ],
   "source": [
    "# inserting values to title table\n",
    "\n",
    "pop_title = \"\"\"\n",
    "INSERT INTO titles VALUES\n",
    "(1,'Sr.Soft.Developer','2002-12-06', '2007-07-18'),\n",
    "(2,'Soft.Developer Mngr.','2008-12-20', '2012-03-19'),\n",
    "(3,'Marketing Mngr','2014-06-11', '2020-10-04'),\n",
    "(4,'Soft.Tester','2000-08-23', '2005-12-03'),\n",
    "(5,'HR Staff','2020-03-30','2021-10-09'),\n",
    "(6,'Soft.Tester Mngr','2002-12-06','2004-11-10'),\n",
    "(7,'Marketing Staff','2014-06-11','2016-12-04'),\n",
    "(8,'HR Manager','2020-03-29','2022-03-03')\n",
    "\"\"\"\n",
    "\n",
    "connection = create_db_connection('localhost', 'root', 'Sivaprasad@2646','company')\n",
    "execute_query(connection, pop_title)"
   ]
  },
  {
   "cell_type": "code",
   "execution_count": 26,
   "id": "1c1bbf6c",
   "metadata": {},
   "outputs": [],
   "source": [
    "# inserting values in the form of lists\n",
    "def execute_list_query(connection, sql, val):\n",
    "    cursor = connection.cursor()\n",
    "    try:\n",
    "        cursor.executemany(sql, val)\n",
    "        connection.commit()\n",
    "        print(\"Query successful\")\n",
    "    except Error as err:\n",
    "        print(f\"Error: '{err}'\")\n"
   ]
  },
  {
   "cell_type": "code",
   "execution_count": 29,
   "id": "718f5d49",
   "metadata": {},
   "outputs": [
    {
     "name": "stdout",
     "output_type": "stream",
     "text": [
      "MySQL Database connection successful\n",
      "Query successful\n"
     ]
    }
   ],
   "source": [
    "# inserting values to salary table in the form of list\n",
    "\n",
    "pop_salary = \"\"\"INSERT INTO salaries (emp_no, salary, from_date, to_date) VALUES (%s, %s, %s, %s)\"\"\"\n",
    "\n",
    "today = datetime.now().date()\n",
    "\n",
    "sal_data = [(1, 1234567, '1999-02-20', today.isoformat()),\n",
    "(2, 2345678, '2007-11-08', today.isoformat()),\n",
    "(3, 3456789, '2014-06-11', today.isoformat()),\n",
    "(4, 4567890, '2000-08-23', today.isoformat()),\n",
    "(5, 5678901, '2020-03-30', today.isoformat()),\n",
    "(6, 6789012, '1999-02-21', today.isoformat()),\n",
    "(7, 7890123, '2014-06-11', today.isoformat()),\n",
    "(8, 8901234, '2020-03-29', today.isoformat())]\n",
    "\n",
    "connection = create_db_connection('localhost' , 'root', 'Sivaprasad@2646', 'company')\n",
    "execute_list_query(connection, pop_salary, sal_data)"
   ]
  },
  {
   "cell_type": "code",
   "execution_count": 34,
   "id": "b5fc1287",
   "metadata": {},
   "outputs": [
    {
     "name": "stdout",
     "output_type": "stream",
     "text": [
      "MySQL Database connection successful\n",
      "Error: '1062 (23000): Duplicate entry '1-SFT01' for key 'dept_emp.PRIMARY''\n"
     ]
    }
   ],
   "source": [
    "pop_deptemp = \"\"\"INSERT INTO dept_emp (emp_no, dept_no, from_date, to_date) VALUES (%s, %s, %s, %s)\"\"\"\n",
    "\n",
    "deptemp_data = [(1, 'SFT01','1999-02-20', today.isoformat()),\n",
    "(2, 'SFT01','2007-11-08',today.isoformat()),\n",
    "(3, 'MKT01','2014-06-11',today.isoformat()),\n",
    "(4, 'SFT02','2000-08-23',today.isoformat()),\n",
    "(5, 'HR01','2020-03-30',today.isoformat()),\n",
    "(6, 'SFT02','1999-02-21',today.isoformat()),\n",
    "(7, 'MKT01','2014-06-11',today.isoformat()),\n",
    "(8, 'HR01','2020-03-29',today.isoformat())]\n",
    "\n",
    "connection =create_db_connection('localhost', 'root', 'Sivaprasad@2646', 'company')\n",
    "execute_list_query(connection, pop_deptemp, deptemp_data)"
   ]
  },
  {
   "cell_type": "code",
   "execution_count": 39,
   "id": "b6661568",
   "metadata": {},
   "outputs": [],
   "source": [
    "# Reading data\n",
    "\n",
    "def read_query(connection, query):\n",
    "    cursor = connection.cursor()\n",
    "    result = None\n",
    "    try:\n",
    "        cursor.execute(query)\n",
    "        result = cursor.fetchall()\n",
    "        return result \n",
    "    except Error as err:\n",
    "        print(f\"Error: '{err}'\" )"
   ]
  },
  {
   "cell_type": "code",
   "execution_count": 41,
   "id": "948b1c78",
   "metadata": {},
   "outputs": [
    {
     "name": "stdout",
     "output_type": "stream",
     "text": [
      "MySQL Database connection successful\n"
     ]
    },
    {
     "data": {
      "text/plain": [
       "[(1, 'Raju', 'Rathi', '1999-02-20', 'M', '1977-06-14'),\n",
       " (2, 'Shyam', 'Naik', '2007-11-08', 'M', '1985-11-01'),\n",
       " (3, 'Baburao', 'Apte', '2014-06-11', 'M', '1984-02-01'),\n",
       " (4, 'Anjali', 'Pande', '2000-08-23', 'F', '1978-05-19'),\n",
       " (5, 'Abhilasha', 'Mohite', '2020-03-30', 'F', '1994-01-17'),\n",
       " (6, 'Suresh', 'Kadam', '1999-02-21', 'M', '1977-08-21'),\n",
       " (7, 'Manish', 'Joshi', '2014-06-11', 'M', '1992-09-29'),\n",
       " (8, 'Radha', 'Marathe', '2020-03-29', 'F', '1988-11-22')]"
      ]
     },
     "execution_count": 41,
     "metadata": {},
     "output_type": "execute_result"
    }
   ],
   "source": [
    "r1=\"\"\"\n",
    "select * from employees;\n",
    "\"\"\"\n",
    "connection = create_db_connection('localhost','root','Sivaprasad@2646','company')\n",
    "results = read_query(connection,r1)\n",
    "results"
   ]
  },
  {
   "cell_type": "code",
   "execution_count": 42,
   "id": "364fb095",
   "metadata": {},
   "outputs": [
    {
     "name": "stdout",
     "output_type": "stream",
     "text": [
      "(1, 'Raju', 'Rathi', '1999-02-20', 'M', '1977-06-14')\n",
      "(2, 'Shyam', 'Naik', '2007-11-08', 'M', '1985-11-01')\n",
      "(3, 'Baburao', 'Apte', '2014-06-11', 'M', '1984-02-01')\n",
      "(4, 'Anjali', 'Pande', '2000-08-23', 'F', '1978-05-19')\n",
      "(5, 'Abhilasha', 'Mohite', '2020-03-30', 'F', '1994-01-17')\n",
      "(6, 'Suresh', 'Kadam', '1999-02-21', 'M', '1977-08-21')\n",
      "(7, 'Manish', 'Joshi', '2014-06-11', 'M', '1992-09-29')\n",
      "(8, 'Radha', 'Marathe', '2020-03-29', 'F', '1988-11-22')\n"
     ]
    }
   ],
   "source": [
    "for result in results:\n",
    "    print(result)"
   ]
  },
  {
   "cell_type": "code",
   "execution_count": 49,
   "id": "cdb226f2",
   "metadata": {},
   "outputs": [
    {
     "name": "stdout",
     "output_type": "stream",
     "text": [
      "MySQL Database connection successful\n"
     ]
    },
    {
     "data": {
      "text/plain": [
       "[('Raju', 'Rathi'),\n",
       " ('Shyam', 'Naik'),\n",
       " ('Baburao', 'Apte'),\n",
       " ('Anjali', 'Pande'),\n",
       " ('Abhilasha', 'Mohite'),\n",
       " ('Suresh', 'Kadam'),\n",
       " ('Manish', 'Joshi'),\n",
       " ('Radha', 'Marathe')]"
      ]
     },
     "execution_count": 49,
     "metadata": {},
     "output_type": "execute_result"
    }
   ],
   "source": [
    "r2 = \"\"\"\n",
    "select first_name , last_name from employees;\n",
    "\"\"\"\n",
    "connection = create_db_connection('localhost','root','Sivaprasad@2646','company')\n",
    "results = read_query(connection,r2)\n",
    "results"
   ]
  },
  {
   "cell_type": "code",
   "execution_count": 53,
   "id": "0820691c",
   "metadata": {},
   "outputs": [
    {
     "name": "stdout",
     "output_type": "stream",
     "text": [
      "MySQL Database connection successful\n"
     ]
    },
    {
     "data": {
      "text/plain": [
       "[('Shyam', 'Naik'),\n",
       " ('Baburao', 'Apte'),\n",
       " ('Suresh', 'Kadam'),\n",
       " ('Radha', 'Marathe')]"
      ]
     },
     "execution_count": 53,
     "metadata": {},
     "output_type": "execute_result"
    }
   ],
   "source": [
    "r3 = \"\"\"\n",
    "select employees.first_name, employees.last_name from employees join dept_manager on employees.emp_no = dept_manager.emp_no;\n",
    "\"\"\"\n",
    "connection = create_db_connection('localhost','root','Sivaprasad@2646','company')\n",
    "results = read_query(connection,r3)\n",
    "results"
   ]
  },
  {
   "cell_type": "code",
   "execution_count": 56,
   "id": "7ad73d0f",
   "metadata": {},
   "outputs": [
    {
     "name": "stdout",
     "output_type": "stream",
     "text": [
      "MySQL Database connection successful\n"
     ]
    },
    {
     "data": {
      "text/plain": [
       "[('Raju', 'SFT01'),\n",
       " ('Shyam', 'SFT01'),\n",
       " ('Baburao', 'MKT01'),\n",
       " ('Anjali', 'SFT02'),\n",
       " ('Abhilasha', 'HR01'),\n",
       " ('Suresh', 'SFT02'),\n",
       " ('Manish', 'MKT01'),\n",
       " ('Radha', 'HR01')]"
      ]
     },
     "execution_count": 56,
     "metadata": {},
     "output_type": "execute_result"
    }
   ],
   "source": [
    "r4 = \"\"\"\n",
    "SELECT employees.first_name, dept_emp.dept_no FROM  employees JOIN dept_emp ON employees.emp_no = dept_emp.emp_no;\n",
    "\n",
    "\"\"\"\n",
    "\n",
    "connection = create_db_connection('localhost','root','Sivaprasad@2646','company')\n",
    "results = read_query(connection,r4)\n",
    "results"
   ]
  },
  {
   "cell_type": "code",
   "execution_count": 62,
   "id": "ffa4ddbb",
   "metadata": {},
   "outputs": [
    {
     "name": "stdout",
     "output_type": "stream",
     "text": [
      "MySQL Database connection successful\n"
     ]
    },
    {
     "data": {
      "text/plain": [
       "[('Raju', 1234567),\n",
       " ('Shyam', 2345678),\n",
       " ('Baburao', 3456789),\n",
       " ('Anjali', 4567890),\n",
       " ('Abhilasha', 5678901),\n",
       " ('Suresh', 6789012),\n",
       " ('Manish', 7890123),\n",
       " ('Radha', 8901234)]"
      ]
     },
     "execution_count": 62,
     "metadata": {},
     "output_type": "execute_result"
    }
   ],
   "source": [
    "r5 = \"\"\"\n",
    "SELECT employees.first_name, salaries.salary FROM employees JOIN salaries ON employees.emp_no = salaries.emp_no;\n",
    "\n",
    "\"\"\"\n",
    "\n",
    "connection = create_db_connection('localhost','root','Sivaprasad@2646','company')\n",
    "results = read_query(connection,r5)\n",
    "results"
   ]
  },
  {
   "cell_type": "code",
   "execution_count": 71,
   "id": "bdac9dd0",
   "metadata": {},
   "outputs": [
    {
     "data": {
      "text/html": [
       "<div>\n",
       "<style scoped>\n",
       "    .dataframe tbody tr th:only-of-type {\n",
       "        vertical-align: middle;\n",
       "    }\n",
       "\n",
       "    .dataframe tbody tr th {\n",
       "        vertical-align: top;\n",
       "    }\n",
       "\n",
       "    .dataframe thead th {\n",
       "        text-align: right;\n",
       "    }\n",
       "</style>\n",
       "<table border=\"1\" class=\"dataframe\">\n",
       "  <thead>\n",
       "    <tr style=\"text-align: right;\">\n",
       "      <th></th>\n",
       "      <th>first_name</th>\n",
       "      <th>salary</th>\n",
       "    </tr>\n",
       "  </thead>\n",
       "  <tbody>\n",
       "    <tr>\n",
       "      <th>3</th>\n",
       "      <td>Anjali</td>\n",
       "      <td>4567890</td>\n",
       "    </tr>\n",
       "    <tr>\n",
       "      <th>4</th>\n",
       "      <td>Abhilasha</td>\n",
       "      <td>5678901</td>\n",
       "    </tr>\n",
       "    <tr>\n",
       "      <th>5</th>\n",
       "      <td>Suresh</td>\n",
       "      <td>6789012</td>\n",
       "    </tr>\n",
       "    <tr>\n",
       "      <th>6</th>\n",
       "      <td>Manish</td>\n",
       "      <td>7890123</td>\n",
       "    </tr>\n",
       "    <tr>\n",
       "      <th>7</th>\n",
       "      <td>Radha</td>\n",
       "      <td>8901234</td>\n",
       "    </tr>\n",
       "  </tbody>\n",
       "</table>\n",
       "</div>"
      ],
      "text/plain": [
       "  first_name   salary\n",
       "3     Anjali  4567890\n",
       "4  Abhilasha  5678901\n",
       "5     Suresh  6789012\n",
       "6     Manish  7890123\n",
       "7      Radha  8901234"
      ]
     },
     "execution_count": 71,
     "metadata": {},
     "output_type": "execute_result"
    }
   ],
   "source": [
    "import pandas as pd \n",
    "columns = [ 'first_name', 'salary']\n",
    "df = pd.DataFrame(results, columns = columns)\n",
    "df.tail()"
   ]
  }
 ],
 "metadata": {
  "kernelspec": {
   "display_name": "Python 3 (ipykernel)",
   "language": "python",
   "name": "python3"
  },
  "language_info": {
   "codemirror_mode": {
    "name": "ipython",
    "version": 3
   },
   "file_extension": ".py",
   "mimetype": "text/x-python",
   "name": "python",
   "nbconvert_exporter": "python",
   "pygments_lexer": "ipython3",
   "version": "3.11.3"
  }
 },
 "nbformat": 4,
 "nbformat_minor": 5
}
